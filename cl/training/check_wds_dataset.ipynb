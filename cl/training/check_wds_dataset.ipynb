{
 "cells": [
  {
   "cell_type": "code",
   "execution_count": null,
   "id": "a28f8ac5-baed-4e1f-9799-7d90f8a954e1",
   "metadata": {},
   "outputs": [],
   "source": [
    "# 2025-5-2 run it in \"paython 3\" on ins-gl-pt-gpu24-2c94136-3env-j4-l4-test-1\n"
   ]
  },
  {
   "cell_type": "code",
   "execution_count": 1,
   "id": "12de7934-0863-4b9a-b541-27bb9b5d064f",
   "metadata": {},
   "outputs": [],
   "source": [
    "import webdataset as wds"
   ]
  },
  {
   "cell_type": "code",
   "execution_count": 2,
   "id": "73a1d333-9f84-4869-9625-1a8aeac4197c",
   "metadata": {},
   "outputs": [],
   "source": [
    "def inspect_wds_contents(wds_path, num_samples=5):\n",
    "    \"\"\"\n",
    "    Utility function to inspect the first few samples in a WebDataset tar file.\n",
    "    \"\"\"\n",
    "    print(f\"Inspecting WebDataset at: {wds_path}\")\n",
    "    ds = wds.WebDataset(wds_path)\n",
    "    \n",
    "    for i, sample in enumerate(ds):\n",
    "        if i >= num_samples:\n",
    "            break\n",
    "        print(f\"Sample {i+1}:\")\n",
    "        print(f\"  Keys: {list(sample.keys())}\")\n",
    "        for k, v in sample.items():\n",
    "            if k.endswith('.txt'):\n",
    "                try:\n",
    "                    print(f\"  {k}: {v.decode('utf-8')[:50]}...\")\n",
    "                except:\n",
    "                    print(f\"  {k}: [Error decoding]\")\n",
    "            elif k.endswith('.pt'):\n",
    "                try:\n",
    "                    tensor = torch.load(io.BytesIO(v))\n",
    "                    print(f\"  {k}: Tensor shape {tensor.shape}, dtype {tensor.dtype}\")\n",
    "                except:\n",
    "                    print(f\"  {k}: [Error loading tensor]\")\n",
    "            else:\n",
    "                print(f\"  {k}: {type(v)}\")\n",
    "    print(\"Inspection complete\")\n"
   ]
  },
  {
   "cell_type": "code",
   "execution_count": 3,
   "id": "672dc840-604f-452e-9341-f3ca7488a9d3",
   "metadata": {},
   "outputs": [
    {
     "name": "stdout",
     "output_type": "stream",
     "text": [
      "Inspecting WebDataset at: ../data/dataspace/polyhaven_tiny/cubediff_train.tar\n",
      "Sample 1:\n",
      "  Keys: ['__key__', '__url__', 'quarry_01_puresky.pt', '__local_path__', 'quarry_01_puresky.txt']\n",
      "  __key__: <class 'str'>\n",
      "  __url__: <class 'str'>\n",
      "  quarry_01_puresky.pt: [Error loading tensor]\n",
      "  __local_path__: <class 'str'>\n",
      "  quarry_01_puresky.txt: quarry 01 puresky...\n",
      "Sample 2:\n",
      "  Keys: ['__key__', '__url__', 'gray_pier.pt', '__local_path__', 'gray_pier.txt']\n",
      "  __key__: <class 'str'>\n",
      "  __url__: <class 'str'>\n",
      "  gray_pier.pt: [Error loading tensor]\n",
      "  __local_path__: <class 'str'>\n",
      "  gray_pier.txt: gray pier...\n",
      "Sample 3:\n",
      "  Keys: ['__key__', '__url__', 'neuer_zollhof.pt', '__local_path__', 'neuer_zollhof.txt']\n",
      "  __key__: <class 'str'>\n",
      "  __url__: <class 'str'>\n",
      "  neuer_zollhof.pt: [Error loading tensor]\n",
      "  __local_path__: <class 'str'>\n",
      "  neuer_zollhof.txt: neuer zollhof...\n",
      "Sample 4:\n",
      "  Keys: ['__key__', '__url__', 'lakeside.pt', '__local_path__', 'lakeside.txt']\n",
      "  __key__: <class 'str'>\n",
      "  __url__: <class 'str'>\n",
      "  lakeside.pt: [Error loading tensor]\n",
      "  __local_path__: <class 'str'>\n",
      "  lakeside.txt: lakeside...\n",
      "Sample 5:\n",
      "  Keys: ['__key__', '__url__', 'bergen.pt', '__local_path__', 'bergen.txt']\n",
      "  __key__: <class 'str'>\n",
      "  __url__: <class 'str'>\n",
      "  bergen.pt: [Error loading tensor]\n",
      "  __local_path__: <class 'str'>\n",
      "  bergen.txt: bergen...\n",
      "Inspection complete\n",
      "train_cubediff.py - inspecting WebDataset donne\n",
      "\n"
     ]
    },
    {
     "name": "stderr",
     "output_type": "stream",
     "text": [
      "/opt/conda/lib/python3.10/site-packages/webdataset/compat.py:389: UserWarning: WebDataset(shardshuffle=...) is None; set explicitly to False or a number\n",
      "  warnings.warn(\n"
     ]
    }
   ],
   "source": [
    "\n",
    "inspect_wds_contents(\"../data/dataspace/polyhaven_tiny/cubediff_train.tar\")\n",
    "print(f\"train_cubediff.py - inspecting WebDataset donne\\n\")"
   ]
  },
  {
   "cell_type": "code",
   "execution_count": 4,
   "id": "d9c62a26-7e6e-425a-b0c1-239bfa4ae28e",
   "metadata": {},
   "outputs": [],
   "source": [
    "wds_path = \"../data/dataspace/polyhaven_tiny/cubediff_train.tar\"\n",
    "\n",
    "ds = wds.WebDataset(wds_path)"
   ]
  },
  {
   "cell_type": "code",
   "execution_count": 5,
   "id": "17f4844c-3c03-4940-b906-f5ff9af69c70",
   "metadata": {},
   "outputs": [
    {
     "data": {
      "text/plain": [
       "webdataset.compat.WebDataset"
      ]
     },
     "execution_count": 5,
     "metadata": {},
     "output_type": "execute_result"
    }
   ],
   "source": [
    "type(ds)"
   ]
  },
  {
   "cell_type": "code",
   "execution_count": 26,
   "id": "f7a71eeb-2d00-4bb2-baf7-d1c24c0fa260",
   "metadata": {},
   "outputs": [],
   "source": [
    "from verify_tar import verify_tar"
   ]
  },
  {
   "cell_type": "code",
   "execution_count": 28,
   "id": "348950aa-9b9a-4112-ba9b-1aaf1355e3be",
   "metadata": {},
   "outputs": [],
   "source": [
    "train_tar = \"../data/dataspace/polyhaven_tiny/cubediff_train.tar\"\n",
    "val_tar = \"../data/dataspace/polyhaven_tiny/cubediff_val.tar\""
   ]
  },
  {
   "cell_type": "code",
   "execution_count": 29,
   "id": "e6e7743a-4657-4a74-9b0f-a42107e8a727",
   "metadata": {},
   "outputs": [
    {
     "name": "stdout",
     "output_type": "stream",
     "text": [
      "=== Verifying Training Tar ===\n",
      "Tar file: ../data/dataspace/polyhaven_tiny/cubediff_train.tar\n",
      "File size: 734.06 MB\n",
      "/opt/conda/lib/python3.10/site-packages/webdataset/compat.py:389: UserWarning: WebDataset(shardshuffle=...) is None; set explicitly to False or a number\n",
      "  warnings.warn(\n",
      "\n",
      "Sample contents:\n",
      "\n",
      "Sample 1:\n",
      "  ID: quarry_01_puresky\n",
      "  Latent: Missing\n",
      "  Caption: Missing\n",
      "\n",
      "Sample 2:\n",
      "  ID: gray_pier\n",
      "  Latent: Missing\n",
      "  Caption: Missing\n",
      "\n",
      "Sample 3:\n",
      "  ID: neuer_zollhof\n",
      "  Latent: Missing\n",
      "  Caption: Missing\n",
      "\n",
      "Summary:\n",
      "Total samples: 651\n",
      "Keys present in all samples: {'__key__'}\n",
      "Keys missing from some samples: {'txt', 'lat.pt'}\n",
      "Latent shapes found: set()\n",
      "\n",
      "=== Verifying Validation Tar ===\n",
      "Tar file: ../data/dataspace/polyhaven_tiny/cubediff_val.tar\n",
      "File size: 55.37 MB\n",
      "\n",
      "Sample contents:\n",
      "\n",
      "Sample 1:\n",
      "  ID: floral_tent\n",
      "  Latent: Missing\n",
      "  Caption: Missing\n",
      "\n",
      "Sample 2:\n",
      "  ID: empty_play_room\n",
      "  Latent: Missing\n",
      "  Caption: Missing\n",
      "\n",
      "Sample 3:\n",
      "  ID: little_paris_eiffel_tower\n",
      "  Latent: Missing\n",
      "  Caption: Missing\n",
      "\n",
      "Summary:\n",
      "Total samples: 49\n",
      "Keys present in all samples: {'__key__'}\n",
      "Keys missing from some samples: {'txt', 'lat.pt'}\n",
      "Latent shapes found: set()\n",
      "\n",
      "✅ Both tar files appear to be valid WebDatasets\n"
     ]
    }
   ],
   "source": [
    "!python verify_tar.py --train_tar $train_tar  --val_tar $val_tar --samples 3"
   ]
  },
  {
   "cell_type": "code",
   "execution_count": 30,
   "id": "674cff47-2fb5-4801-ad39-0da3cda0bc66",
   "metadata": {},
   "outputs": [],
   "source": [
    "from verify_simple import verify_tar"
   ]
  },
  {
   "cell_type": "code",
   "execution_count": 31,
   "id": "b336901f-32c9-4a71-9a5e-2beec674c622",
   "metadata": {},
   "outputs": [
    {
     "name": "stdout",
     "output_type": "stream",
     "text": [
      "Verifying ../data/dataspace/polyhaven_tiny/cubediff_train.tar...\n",
      "File size: 734.1 MB\n",
      "/opt/conda/lib/python3.10/site-packages/webdataset/compat.py:389: UserWarning: WebDataset(shardshuffle=...) is None; set explicitly to False or a number\n",
      "  warnings.warn(\n",
      "\n",
      "Sample 1:\n",
      "  Keys: ['__key__', '__url__', 'quarry_01_puresky.pt', '__local_path__', 'quarry_01_puresky.txt']\n",
      "  ID: quarry_01_puresky\n",
      "  Tensor shape: torch.Size([6, 4, 64, 64])\n",
      "  Caption: b'quarry 01 puresky'\n",
      "\n",
      "Sample 2:\n",
      "  Keys: ['__key__', '__url__', 'gray_pier.pt', '__local_path__', 'gray_pier.txt']\n",
      "  ID: gray_pier\n",
      "  Tensor shape: torch.Size([6, 4, 64, 64])\n",
      "  Caption: b'gray pier'\n",
      "\n",
      "Sample 3:\n",
      "  Keys: ['__key__', '__url__', 'neuer_zollhof.pt', '__local_path__', 'neuer_zollhof.txt']\n",
      "  ID: neuer_zollhof\n",
      "  Tensor shape: torch.Size([6, 4, 64, 64])\n",
      "  Caption: b'neuer zollhof'\n",
      "\n",
      "', 'golden_bay.txt', 'small_empty_room_2.txt', 'gum_trees.txt', 'kloofendal_38d_partly_cloudy_puresky.pt', 'derelict_overpass.pt', 'glass_passage.txt', 'graveyard_pathways.txt', 'hotel_rooftop_balcony.pt', '__local_path__', 'summer_stage_02.txt', 'kloppenheim_01.txt', 'dancing_hall.txt', 'quarry_03.txt', 'bloem_train_track_cloudy.pt', 'hochsal_forest.txt', 'simons_town_harbour.pt', 'arboretum.pt', 'photo_studio_london_hall.txt', 'fouriesburg_mountain_midday.pt', 'small_rural_road_02.txt', 'future_parking.txt', 'drackenstein_quarry.txt', 'beach_cloudy_bridge.txt', 'photo_studio_01.pt', 'pond.pt', 'stream.txt', 'kiara_7_late-afternoon.txt', 'bethnal_green_entrance.pt', 'hospital_room_2.txt', 'autumn_forest_01.pt', 'snowy_forest.pt', 'christmas_photo_studio_03.pt', 'art_studio.pt', 'small_hangar_02.pt', 'hikers_cave.pt', 'abandoned_games_room_01.txt', 'rotes_rathaus.txt', 'sculpture_exhibition.txt', 'soliltude.pt', 'hospital_room_2.pt', 'partial_eclipse.txt', 'kloppenheim_05.txt', 'kloppenheim_07_puresky.pt', 'small_cave.txt', 'birchwood.pt', 'courtyard.pt', 'small_empty_room_1.txt', 'old_room.txt', 'lythwood_field.txt', 'delta_2.txt', 'qwantani_sunrise.pt', 'qwantani_dusk_2.txt', 'rosendal_park_sunset_puresky.txt', 'misty_dawn.txt', 'red_hill_straight.pt', 'lakeside_sunrise.pt', 'bank_vault.pt', 'quarry_01_puresky.pt', 'river_walk_1.txt', 'skylit_garage.pt', 'netball_court.pt', 'lakeside_dawn.pt', 'abandoned_tiled_room.pt', 'ahornsteig.pt', 'sepulchral_chapel_rotunda.pt', 'overcast_soil.pt', 'leibstadt.txt', 'bell_park_dawn.pt', 'kiara_4_mid-morning.txt', 'garage.txt', 'garden_nook.pt', 'dresden_station_night.pt', 'ballawley_park.pt', 'cloudy_cliffside_road.txt', 'spaichingen_hill.txt', 'dry_cracked_lake.txt', 'lebombo.pt', 'dam_bridge.pt', 'forest_grove.pt', 'monkstown_castle.txt', 'lake_pier.pt', 'felsenlabyrinth.pt', 'pool.txt', 'snowy_forest.txt', 'museum_of_history.pt', 'immenstadter_horn.pt', 'music_hall_02.pt', 'syferfontein_18d_clear_puresky.pt', 'music_hall_01.pt', 'kloofendal_misty_morning.pt', 'railway_bridges.pt', 'pizzo_pernice_puresky.txt', 'cinema_hall.pt', 'kloofendal_overcast_puresky.pt', 'kiara_2_sunrise.txt', 'dry_cracked_lake.pt', 'rostock_arches.pt', 'qwantani_dusk_1.txt', 'etzwihl.txt', 'sunflowers.txt', 'monks_forest.pt', 'blue_lagoon_night.txt', 'fireplace.txt', 'dikhololo_night.pt', 'portland_landing_pad.txt', 'suburban_field_01.txt', 'lot_01.pt', 'courtyard_night.txt', 'citrus_orchard.pt', 'sepulchral_chapel_basement.txt', 'snowy_cemetery.pt', 'abandoned_tank_farm_02.txt', 'kloofendal_48d_partly_cloudy.pt', 'aloe_farm_shade_house.pt', 'small_empty_room_1.pt', 'drachenfels_cellar.pt', 'st_peters_square_night.pt', 'comfy_cafe.pt', 'storeroom.txt', 'industrial_sunset.txt', 'empty_warehouse_01.txt', 'petit_port.txt', 'satara_night.pt', 'sunflowers.pt', 'dikhololo_sunset.pt', 'farm_field.pt', 'bismarckturm_hillside.pt', 'abandoned_tank_farm_05.txt', 'indoor_pool.txt', 'sandsloot.pt', 'photo_studio_broadway_hall.txt', 'creepy_bathroom.txt', 'countrytrax_midday.pt', 'harties_cliff_view.pt', 'evening_road_01.txt', 'abandoned_games_room_01.pt', 'graffiti_shelter.pt', 'overcast_soil_2.txt', 'sisulu.pt', 'circus_maximus_1.txt', 'eilenriede_park.pt', 'industrial_sunset_02_puresky.pt', 'preller_drive.txt', 'railway_bridge_02.pt', 'irish_institute.pt', 'adams_place_bridge.pt', 'rosendal_mountain_midmorning.pt', 'rhodes_memorial.pt', 'abandoned_factory_canteen_02.pt', 'small_harbor_02.txt', 'studio_small_06.pt', 'abandoned_tank_farm_01.txt', 'circus_arena.pt', 'spaichingen_hill.pt', 'ehingen_hillside_02.txt', 'evening_meadow.txt', 'bloem_hill_01.pt', 'mud_road_puresky.pt', 'crystal_falls.txt', 'fouriesburg_mountain_lookout.txt', 'brown_photostudio_06.txt', 'rustig_koppie.pt', 'short_tunnel.txt', 'resting_place.txt', 'snow_field_puresky.pt', 'abandoned_factory_canteen_01.pt', 'dry_field.txt', 'killesberg_park.pt', 'binnenalster.txt', 'studio_small_05.txt', 'river_rocks.txt', 'dry_orchard_meadow.txt', 'crosswalk.txt', 'boiler_room.txt', 'small_harbour_morning.txt', 'hospital_room.pt', 'qwantani.pt', 'rostock_laage_airport.pt', 'immenstadter_horn.txt', 'rogland_moonlit_night.txt', 'aft_lounge.pt', 'kloofendal_48d_partly_cloudy_puresky.txt', 'quarry_01.txt', 'decor_shop.pt', 'buikslotermeerplein.pt', 'rostock_laage_airport.txt', 'satara_night.txt', 'docklands_01.txt', 'christmas_photo_studio_04.txt', 'passendorf_snow.txt', 'abandoned_hall_01.txt', 'beach_parking.pt', 'cedar_bridge.txt', 'autumn_meadow.pt', 'autumn_park.txt', 'dark_autumn_forest.pt', 'hall_of_finfish.pt', 'gym_01.txt', 'stone_alley_02.txt', 'derelict_overpass.txt', 'rural_winter_roadside.txt', 'qwantani_noon.pt', 'hamburg_hbf.pt', 'autumn_crossing.txt', 'sunny_vondelpark.txt', 'oberer_kuhberg.pt', 'kiara_interior.pt', 'satara_night_no_lamps.pt', 'school_hall.txt', 'signal_hill_sunrise.pt', 'rural_crossroads.pt', 'brown_photostudio_05.pt', 'mossy_forest.pt', 'bloem_train_track_cloudy.txt', 'small_cathedral.pt', 'rustig_koppie_puresky.pt', 'kloetzle_blei.pt', 'forgotten_miniland.txt', 'garage.pt', 'kloofendal_28d_misty.pt', 'industrial_pipe_and_valve_02.txt', 'derelict_highway_midday.pt', 'qwantani_moon_noon.pt', 'crosswalk.pt', 'short_tunnel.pt', 'cannon.pt', 'hotel_room.pt', 'altanka.txt', 'subway_entrance.pt', 'outdoor_umbrellas.pt', 'abandoned_hopper_terminal_02.txt', 'resting_place_2.pt', 'studio_small_04.pt', 'derelict_underpass.txt', 'qwantani_afternoon.txt', 'small_harbour_sunset.pt', 'belvedere.pt', 'lakeside_night.pt', 'ninomaru_teien.pt', 'mossy_forest.txt', 'kloofendal_48d_partly_cloudy_puresky.pt', 'art_studio.txt', 'cloudy_vondelpark.txt', 'misty_farm_road.pt', 'muddy_autumn_forest.txt', 'rustig_koppie.txt', 'studio_small_03.pt', 'chapel_day.txt', 'missile_launch_facility_02.pt', 'illovo_beach_balcony.txt', 'cannon.txt', 'approaching_storm.txt', 'simons_town_rocks.pt', 'brown_photostudio_07.txt', 'kiara_5_noon.pt', 'large_corridor.pt', 'reading_room.pt', 'hilly_terrain_01.txt', 'abandoned_games_room_02.txt', 'beach_parking.txt', 'burnt_warehouse.pt', 'qwantani_mid_morning.txt', 'derelict_highway_midday.txt', 'cloud_layers.pt', 'promenade_de_vidy.txt', 'derelict_highway_noon.txt', 'kiara_1_dawn.txt', 'stadium_01.pt', 'borghese_gardens.pt', 'rosendal_plains_1.pt', 'machine_shop_02.pt', 'concrete_tunnel.txt', 'abandoned_slipway.txt', 'monbachtal_riverbank.txt', 'medieval_cafe.pt', 'pizzo_pernice.pt', 'champagne_castle_1.pt', 'sunset_jhbcentral.pt', 'shanghai_riverside.pt', 'circus_maximus_2.pt', 'green_sanctuary.pt', 'dry_meadow.pt', 'sterkspruit_falls.txt', 'laufenurg_church.pt', 'kloppenheim_02_puresky.pt', 'klippad_sunrise_1.txt', 'kloofendal_43d_clear.txt', 'gamrig.pt', 'cyclorama_hard_light.pt', 'small_workshop.pt', 'rogland_moonlit_night.pt', 'kloppenheim_06_puresky.txt', 'qwantani_moonrise.txt', 'interior_construction.pt', 'artist_workshop.pt', 'qwantani_puresky.pt', 'amphitheatre_zanzibar_fort.txt', 'christmas_photo_studio_03.txt', 'leadenhall_market.txt', 'kloppenheim_05_puresky.pt', 'rogland_sunset.txt', 'je_gray_park.pt', 'snowy_forest_path_01.txt', 'belfast_sunset.pt', 'kloppenheim_02_puresky.txt', 'small_empty_room_2.pt', 'scythian_tombs.txt', 'skukuza_golf.txt', 'san_giuseppe_bridge.txt', 'studio_small_06.txt', 'roofless_ruins.txt', 'red_hill_straight.txt', 'lilienstein.pt', 'stone_alley_03.pt', 'rustig_koppie_puresky.txt', 'klippad_sunrise_1.pt', 'kart_club.txt', 'abandoned_workshop_02.pt', 'river_walk_2.pt', 'minedump_flats.txt', 'studio_small_01.txt', 'kloofendal_28d_misty_puresky.txt', 'billiard_hall.txt', 'small_empty_room_3.txt', 'mirrored_hall.pt', 'autumn_forest_02.txt', 'outdoor_workshop.pt', 'dikhololo_night.txt', 'pretville_street.pt', 'industrial_sunset_02.txt', 'hausdorf_clear_sky.txt', 'brick_factory_01.pt', 'old_quarry_gerlingen.txt', 'dikhololo_sunset.txt', 'frozen_lake.pt', 'studio_small_08.txt', 'brick_factory_02.txt', 'night_bridge.pt', 'reinforced_concrete_02.pt', 'narrow_moonlit_road.pt', '__key__', 'lythwood_terrace.pt', 'small_harbor_01.pt', 'lakeside_sunrise.txt', 'gum_trees.pt', 'orbita.txt', 'museum_of_ethnography.pt', 'belfast_open_field.txt', 'dalkey_view.txt', 'freight_station.txt', '__url__', 'ox_bridge_morning.pt', 'industrial_sunset_puresky.pt', 'blouberg_sunrise_1.txt', 'modern_buildings_night.txt', 'studio_garden.pt', 'industrial_sunset_02.pt', 'aristea_wreck_puresky.txt', 'abandoned_tank_farm_04.txt', 'snowy_field.pt', 'kloofendal_38d_partly_cloudy_puresky.txt', 'abandoned_greenhouse.pt', 'palermo_square.pt', 'mutianyu.pt', 'stone_alley_02.pt', 'old_apartments_walkway.pt', 'kloofendal_misty_morning_puresky.txt', 'greenwich_park_02.txt', 'cinema_lobby.txt', 'chapmans_drive.pt', 'lonely_road_afternoon_puresky.pt', 'rosendal_plains_2.pt', 'hotel_room.txt', 'gothic_manor_01.txt', 'skidpan.txt', 'pillars.txt', 'fish_hoek_beach.pt', 'industrial_workshop_foundry.pt', 'mirrored_hall.txt', 'kloppenheim_01_puresky.pt', 'missile_launch_facility_03.txt', 'cyclorama_hard_light.txt', 'brown_photostudio_01.txt', 'belfast_sunset.txt', 'dresden_square.pt', 'clarens_midday.pt', 'bell_park_dawn.txt', 'klippad_sunrise_2.pt', 'steinbach_field.txt', 'aloe_farm_shade_house.txt', 'signal_hill_dawn.txt', 'netball_court.txt', 'limpopo_golf_course.txt', 'nkuhlu.pt', 'small_harbour_morning.pt', 'konzerthaus.txt', 'petit_port.pt', 'je_gray_02.txt', 'autumn_forest_02.pt', 'harties.pt', 'dam_wall.txt', 'pretville_street.txt', 'distribution_board.pt', 'qwantani_dawn.txt', 'large_corridor.txt', 'lenong_1.txt', 'circus_maximus_2.txt', 'drackenstein_quarry.pt', 'blaubeuren_night.pt', 'abandoned_tank_farm_03.pt', 'satara_night_no_lamps.txt', 'klippad_sunrise_2.txt', 'kiara_interior.txt', 'birbeck_street_underpass.pt', 'abandoned_bakery.txt', 'reichstag_1.txt', 'flower_hillside.txt', 'hangar_interior.pt', 'moulton_falls_train_tunnel_east.pt', 'brick_factory_01.txt', 'farm_sunset.txt', 'hotel_rooftop_balcony.txt', 'cedar_bridge.pt', 'studio_small_08.pt', 'suburban_field_01.pt', 'autumn_road.txt', 'quarry_02.pt', 'overcast_soil_puresky.pt', 'modern_buildings_2.pt', 'solitude_night.txt', 'montorfano.txt', 'farm_field_puresky.txt', 'rogland_sunset.pt', 'roof_garden.pt', 'gothic_manor_01.pt', 'kloppenheim_07_puresky.txt', 'combination_room.txt', 'basement_boxing_ring.txt', 'kloppenheim_05_puresky.txt', 'alps_field.pt', 'killesberg_park.txt', 'skidpan.pt', 'green_point_park.txt', 'pool.pt', 'bismarckturm.txt', 'studio_garden.txt', 'cloud_layers.txt', 'farm_sunset.pt', 'lot_01.txt', 'canary_wharf.pt', 'near_the_river_01.pt', 'evening_meadow.pt', 'ouchy_pier.txt', 'flower_road.txt', 'artist_workshop.txt', 'reinforced_concrete_02.txt', 'flamingo_pan.txt', 'kiara_7_late-afternoon.pt', 'rural_graffiti_tower.pt', 'lythwood_field.pt', 'chinese_garden.txt', 'monbachtal_riverbank.pt', 'creepy_bathroom.pt', 'epping_forest_01.txt', 'aristea_wreck_puresky.pt', 'en_suite.txt', 'blaubeuren_night.txt', 'small_empty_house.pt', 'mosaic_tunnel.pt', 'farm_field_puresky.pt', 'docklands_02.txt', 'fish_hoek_beach.txt', 'mosaic_tunnel.txt', 'arboretum.txt', 'green_point_park.pt', 'limpopo_golf_course.pt', 'pylons.pt', 'dam_bridge.txt', 'cobblestone_street_night.txt', 'ahornsteig.txt', 'forest_cave.pt', 'country_club.pt', 'palermo_park.txt', 'misty_farm_road.txt', 'autumn_ground.txt', 'sunflowers_puresky.pt', 'partial_eclipse.pt', 'kloofendal_overcast_puresky.txt', 'abandoned_tank_farm_04.pt', 'pretville_cinema.pt', 'snowy_hillside.txt', 'resting_place.pt', 'small_empty_room_3.pt', 'autumn_ground.pt', 'drachenfels_cellar.txt', 'autumn_park.pt', 'lonely_road_afternoon_puresky.txt', 'lenong_1.pt', 'little_paris_under_tower.txt', 'kiara_9_dusk.txt', 'comfy_cafe.txt', 'simons_town_rocks.txt', 'kloppenheim_01_puresky.txt', 'lakes.txt', 'freight_station.pt', 'residential_garden.txt', 'dry_field.pt', 'abandoned_hall_01.pt', 'hilly_terrain_01_puresky.pt', 'golden_bay.pt', 'noon_grass.txt', 'mpumalanga_veld_puresky.pt', 'eilenriede_park.txt', 'indoor_pool.pt', 'summer_stage_01.pt', 'kloppenheim_03_puresky.pt', 'clarens_midday.txt', 'alps_field.txt', 'geislingen_an_der_steige.txt', 'abandoned_tank_farm_02.pt', 'peppermint_powerplant.pt', 'rocky_ridge.txt', 'pedestrian_overpass.pt', 'christmas_photo_studio_02.pt', 'railway_bridges.txt', 'orlando_stadium.txt', 'sculpture_exhibition.pt', 'stone_alley.txt', 'abandoned_slipway.pt', 'furry_clouds.txt', 'hochsal_forest.pt', 'sunset_fairway.pt', 'binnenalster.pt', 'signal_hill_sunrise.txt', 'piazza_bologni.txt', 'bambanani_sunset.pt', 'suburban_parking_area.pt', 'quarry_cloudy.txt', 'squash_court.pt', 'pine_attic.txt', 'en_suite.pt', 'brown_photostudio_04.pt', 'aviation_museum.pt', 'reading_room.txt', 'mall_parking_lot.txt', 'shady_patch.pt', 'rooftop_night.pt', 'fouriesburg_mountain_midday.txt', 'kloppenheim_02.pt', 'small_empty_room_4.pt', 'autumn_meadow.txt', 'neuer_zollhof.pt', 'graffiti_shelter.txt', 'dry_orchard_meadow.pt', 'kloppenheim_06.txt', 'frozen_lake.txt', 'fouriesburg_mountain_cloudy.pt', 'missile_launch_facility_03.pt', 'kloofendal_misty_morning_puresky.pt', 'old_hall.pt', 'cambridge.txt', 'autumn_field_puresky.pt', 'soliltude.txt', 'pizzo_pernice.txt', 'signal_hill_dawn.pt', 'hamburg_hbf.txt', 'ruckenkreuz.txt', 'anniversary_lounge.pt', 'abandoned_hopper_terminal_04.txt', 'small_cave.pt', 'moonlit_golf.pt', 'belfast_farmhouse.pt', 'lookout.txt', 'hospital_room.txt', 'schadowplatz.pt', 'overcast_soil_puresky.txt', 'kiara_9_dusk.pt', 'spiaggia_di_mondello.pt', 'subway_entrance.txt', 'abandoned_bakery.pt', 'small_cathedral_02.pt', 'poly_haven_studio.txt', 'ehingen_hillside.txt', 'rosendal_park_sunset.txt', 'pretville_cinema.txt', 'ninomaru_teien.txt', 'pump_station.pt', 'flower_road.pt', 'lakeside.txt', 'rural_landscape.txt', 'palermo_square.txt', 'provence_studio.txt', 'kloppenheim_06_puresky.pt', 'autumn_field_puresky.txt', 'etzwihl.pt', 'meadow_2.pt', 'chinese_garden.pt', 'stone_alley_03.txt', 'kloppenheim_01.pt', 'dam_road.pt', 'monkstown_castle.pt', 'rural_winter_roadside.pt', 'greenwich_park_02.pt', 'kloppenheim_06.pt', 'shanghai_riverside.txt', 'metro_vijzelgracht.pt', 'abandoned_church.pt', 'old_hall.txt', 'metro_noord.pt', 'machine_shop_01.txt', 'rural_crossroads.txt', 'evening_road_01.pt', 'dark_autumn_forest.txt', 'clarens_night_01.pt', 'phalzer_forest_01.pt', 'sepulchral_chapel_basement.pt', 'kiara_2_sunrise.pt', 'paul_lobe_haus.txt', 'small_rural_road.pt', 'kloofendal_38d_partly_cloudy.txt', 'aristea_wreck.pt', 'christmas_photo_studio_02.txt', 'sabie_tent.txt', 'harvest.pt', 'nature_reserve_forest.txt', 'abandoned_hopper_terminal_02.pt', 'pump_station.txt', 'dry_meadow.txt', 'rocky_ridge.pt', 'hochsal_field.pt', 'modern_buildings_night.pt', 'horn-koppe_snow.pt', 'kloofendal_43d_clear_puresky.txt', 'spruit_dawn.pt', 'snowy_field.txt', 'rosendal_mountain_midmorning.txt', 'qwantani_sunset.txt', 'round_platform.pt', 'forgotten_miniland.pt', 'blue_grotto.pt', 'abandoned_church.txt', 'ostrich_road.pt', 'suburban_parking_area.txt', 'river_walk_2.txt', 'quarry_04_puresky.txt', 'lythwood_lounge.pt', 'ox_bridge_morning.txt', 'lythwood_lounge.txt', 'quattro_canti.pt', 'autumn_hockey.pt', 'studio_small_07.pt', 'small_hangar_01.pt', 'delta_2.pt', 'snowy_cemetery.txt', 'hochsal_field.txt', 'kloppenheim_03_puresky.txt', 'drakensberg_solitary_mountain_puresky.txt', 'rosendal_park_sunset_puresky.pt', 'outdoor_workshop.txt', 'kiara_8_sunset.pt', 'noon_grass.pt', 'snow_field.pt', 'brown_photostudio_03.txt', 'gear_store.pt', 'museum_of_history.txt', 'aircraft_workshop_01.txt', 'epping_forest_01.pt', 'lush_dirt_path.pt', 'herkulessaulen.pt', 'qwantani_afternoon.pt', 'noga.pt', 'chapel_day.pt', 'dalkey_view.pt', 'empty_workshop.txt', 'schachen_forest.txt', 'old_depot.txt', 'hamburg_canal.txt', 'lakeside_dawn.txt', 'construction_yard.pt', 'factory_yard.pt', 'abandoned_tank_farm_03.txt', 'blue_lagoon.pt', 'red_hill_cloudy.pt', 'buikslotermeerplein.txt', 'scythian_tombs_2.pt', 'blue_photo_studio.pt', 'parking_garage.txt', 'abandoned_pathway.pt', 'aircraft_workshop_01.pt', 'blue_lagoon_night.pt', 'learner_park.pt', 'qwantani_late_afternoon.pt', 'empty_workshop.pt', 'konzerthaus.pt', 'distribution_board.txt', 'belfast_open_field.pt', 'acoustical_shell.pt', 'st_peters_square_night.txt', 'mpumalanga_veld_puresky.txt', 'abandoned_workshop.txt', 'between_bridges.pt', 'fouriesburg_mountain_lookout_2.pt', 'syferfontein_0d_clear.txt', 'aerodynamics_workshop.txt', 'limehouse.pt', 'between_bridges.txt', 'hilly_terrain_01_puresky.txt', 'neon_photostudio.pt', 'auto_service.pt', 'blaubeuren_outskirts.pt', 'modern_buildings.txt', 'aviation_museum.txt', 'museumplein.pt', 'bambanani_sunset.txt', 'phalzer_forest_01.txt', 'piazza_bologni.pt', 'moonless_golf.txt', 'stuttgart_suburbs.txt', 'fouriesburg_mountain_cloudy.txt', 'fouriesburg_mountain_lookout.pt', 'de_balie.pt', 'dreifaltigkeitsberg.pt', 'snowy_forest_path_02.txt', 'meadow_2.txt', 'abandoned_waterworks.txt', 'industrial_sunset.pt', 'preller_drive.pt', 'muddy_autumn_forest.pt', 'misty_pines.pt', 'rosendal_plains_2.txt', 'rainforest_trail.txt', 'snowy_hillside.pt', 'quarry_cloudy.pt', 'near_the_river_02.pt', 'royal_esplanade.pt', 'eilenriede_labyrinth.txt', 'stone_alley.pt', 'secluded_beach.pt', 'dry_hay_field.pt', 'stream.pt', 'stuttgart_hillside.txt', 'autoshop_01.txt', 'christmas_photo_studio_04.pt', 'green_sanctuary.txt', 'bergen.pt', 'factory_yard.txt', 'altanka.pt', 'autumn_forest_03.txt', 'fouriesburg_mountain_lookout_2.txt', 'mpumalanga_veld.pt', 'golden_gate_hills.txt', 'lakeside.pt', 'roofless_ruins.pt', 'horn-koppe_snow.txt', 'je_gray_02.pt', 'ballroom.pt', 'royal_esplanade.txt', 'klippad_dawn_1.pt', 'flamingo_pan.pt', 'kloofendal_43d_clear_puresky.pt', 'rocky_ridge_puresky.pt', 'abandoned_pathway.txt', 'rainforest_trail.pt', 'snowy_park_01.pt', 'aft_lounge.txt', 'dresden_square.txt', 'dusseldorf_bridge.txt', 'christmas_photo_studio_01.pt', 'harties.txt', 'christmas_photo_studio_06.pt', 'night_bridge.txt', 'harties_cliff_view.txt', 'studio_small_01.pt', 'lauter_waterfall.pt', 'borghese_gardens.txt', 'air_museum_playground.txt', 'leibstadt.pt', 'christmas_photo_studio_01.txt', 'nkuhlu.txt', 'abandoned_workshop_02.txt', 'bush_restaurant.txt', 'syferfontein_0d_clear.pt', 'colorful_studio.txt', 'lebombo.txt', 'neurathen_rock_castle.pt', 'mud_road.txt', 'lauter_waterfall.txt', 'orbita.pt', 'belfast_sunset_puresky.pt', 'courtyard.txt', 'qwantani_moonrise.pt', 'entrance_hall.pt', 'lythwood_terrace.txt', 'kloppenheim_03.pt', 'portland_landing_pad.pt', 'pine_attic.pt', 'future_parking.pt', 'neurathen_rock_castle.txt', 'golf_course_sunrise.pt', 'snow_field_puresky.txt', 'glencairn_expressway.pt', 'hausdorf_clear_sky.pt', 'kiara_8_sunset.txt', 'neuer_zollhof.txt', 'autumn_field.txt', 'provence_studio.pt', 'small_cathedral_02.txt', 'old_tree_in_city_park.pt', 'pizzo_pernice_puresky.pt', 'kloppenheim_02.txt', 'aviation_museum_hill.pt', 'rathaus.txt', 'brown_photostudio_06.pt', 'museumplein.txt', 'quarry_02.txt', 'reinforced_concrete_01.pt', 'ouchy_pier.pt', 'konigsallee.txt', 'gym_01.pt', 'country_club.txt', 'brown_photostudio_02.pt', 'carpentry_shop_01.pt', 'small_harbor_02.pt', 'construction_yard.txt', 'school_hall.pt', 'adams_place_bridge.txt', 'scythian_tombs.pt', 'kloppenheim_03.txt', 'missile_launch_facility_01.txt', 'qwantani_patio.pt', 'colosseum.pt', 'rosendal_plains_1.txt', 'hanger_exterior_cloudy.txt', 'marry_hall.txt', 'qwantani_moon_noon.txt', 'driving_school.pt', 'blaubeuren_church_square.txt', 'rogland_overcast.txt', 'drakensberg_solitary_mountain_puresky.pt', 'abandoned_construction.txt', 'kiara_3_morning.txt', 'cambridge.pt', 'sunset_fairway.txt', 'autumn_forest_03.pt', 'dam_road.txt', 'auto_service.txt', 'crystal_falls.pt', 'ostrich_road.txt', 'qwantani_night.txt', 'hamburg_canal.pt', 'geislingen_an_der_steige.pt', 'lookout.pt', 'studio_small_03.txt', 'concrete_tunnel.pt', 'blue_lagoon.txt', 'boma.txt', 'old_quarry_gerlingen.pt', 'small_empty_room_4.txt', 'lush_dirt_path.txt', 'rosendal_park_sunset.pt', 'nature_reserve_forest.pt', 'simons_town_road.pt', 'belfast_farmhouse.txt', 'studio_small_05.pt', 'qwantani_patio.txt', 'noga.txt', 'schachen_forest.pt', 'cayley_lookout.txt', 'bank_vault.txt', 'pylons.txt', 'snowy_park_01.txt', 'lapa.txt', 'kiara_5_noon.txt', 'kiara_6_afternoon.txt', 'little_paris_under_tower.pt', 'rooftop_night.txt', 'overcast_soil.txt', 'park_bench.pt', 'sisulu.txt', 'hayloft.pt', 'passendorf_snow.pt', 'mutianyu.txt', 'rural_asphalt_road.txt', 'poly_haven_studio.pt', 'leadenhall_market.pt', 'cinema_lobby.pt', 'qwantani_night.pt', 'brown_photostudio_01.pt', 'anniversary_lounge.txt', 'cliffside.pt', 'hall_of_mammals.txt', 'quarry_04.pt', 'rocky_ridge_puresky.txt', 'kloofendal_43d_clear.pt', 'brown_photostudio_05.txt', 'near_the_river_02.txt', 'red_wall.txt', 'resting_place_2.txt', 'reichstag_1.pt', 'cloudy_cliffside_road.pt', 'glencairn_expressway.txt', 'abandoned_workshop.pt', 'burnt_warehouse.txt', 'abandoned_factory_canteen_01.txt', 'hall_of_finfish.txt', 'roof_garden.txt', 'moulton_station_train_tunnel_west.pt', 'cobblestone_street_night.pt', 'marry_hall.pt', 'missile_launch_facility_01.pt', 'near_the_river_01.txt', 'pedestrian_overpass.txt', 'dry_hay_field.txt', 'spree_bank.pt', 'cave_wall.pt', 'photo_studio_broadway_hall.pt', 'schadowplatz.txt', 'scythian_tombs_2.txt', 'nagoya_wall_path.pt', 'qwantani_puresky.txt', 'clarens_night_01.txt', 'sunny_vondelpark.pt', 'bismarckturm_hillside.txt', 'piazza_san_marco.pt', 'blaubeuren_hillside.txt', 'syferfontein_18d_clear_puresky.txt', 'old_bus_depot.txt', 'pretoria_gardens.txt', 'simons_town_road.txt', 'snow_field_2.pt', 'orlando_stadium.pt', 'sepulchral_chapel_rotunda.txt', 'qwantani_late_afternoon.txt', 'stuttgart_suburbs.pt', 'st_fagans_interior.txt', 'cabin.pt', 'bismarckturm.pt', 'old_tree_in_city_park.txt', 'old_room.pt', 'stuttgart_hillside.pt', 'shady_patch.txt', 'machine_shop_03.pt', 'industrial_pipe_and_valve_02.pt', 'bush_restaurant.pt', 'abandoned_waterworks.pt', 'spruit_dawn.txt', 'georgentor.pt', 'kloofendal_48d_partly_cloudy.txt', 'ehingen_hillside_02.pt', 'paul_lobe_haus.pt', 'old_apartments_walkway.txt', 'potsdamer_platz.txt', 'boma.pt', 'sunflowers_puresky.txt'}\n",
      "Verifying ../data/dataspace/polyhaven_tiny/cubediff_val.tar...\n",
      "File size: 55.4 MB\n",
      "\n",
      "Sample 1:\n",
      "  Keys: ['__key__', '__url__', 'floral_tent.pt', '__local_path__', 'floral_tent.txt']\n",
      "  ID: floral_tent\n",
      "  Tensor shape: torch.Size([6, 4, 64, 64])\n",
      "  Caption: b'floral tent'\n",
      "\n",
      "Sample 2:\n",
      "  Keys: ['__key__', '__url__', 'empty_play_room.pt', '__local_path__', 'empty_play_room.txt']\n",
      "  ID: empty_play_room\n",
      "  Tensor shape: torch.Size([6, 4, 64, 64])\n",
      "  Caption: b'empty play room'\n",
      "\n",
      "Sample 3:\n",
      "  Keys: ['__key__', '__url__', 'little_paris_eiffel_tower.pt', '__local_path__', 'little_paris_eiffel_tower.txt']\n",
      "  ID: little_paris_eiffel_tower\n",
      "  Tensor shape: torch.Size([6, 4, 64, 64])\n",
      "  Caption: b'little paris eiffel tower'\n",
      "\n",
      "Found 49 samples with keys: {'kloppenheim_07.txt', 'shanghai_bund.txt', 'empty_play_room.txt', 'solitude_interior.txt', 'castel_st_angelo_roof.pt', 'syferfontein_18d_clear.pt', 'syferfontein_0d_clear_puresky.txt', 'lenong_2.txt', 'stone_pines.pt', 'gothic_manor_02.pt', 'forest_slope.pt', '__url__', 'clarens_night_02.txt', 'cayley_interior.txt', 'scythian_tombs_puresky.pt', 'lonely_road_afternoon.pt', 'bloem_train_track_clear.txt', 'lonely_road_afternoon.txt', 'syferfontein_0d_clear_puresky.pt', 'hansaplatz.txt', 'christmas_photo_studio_07.pt', 'snowy_hillside_02.txt', 'rooftop_day.txt', 'klippad_dawn_2.pt', 'palermo_sidewalk.pt', 'park_parking.pt', 'bathroom.txt', 'studio_country_hall.txt', 'school_quad.txt', 'blocky_photo_studio.txt', 'kloofendal_overcast.txt', 'christmas_photo_studio_07.txt', 'carpentry_shop_02.txt', 'abandoned_hopper_terminal_01.txt', 'castel_st_angelo_roof.txt', 'rogland_clear_night.txt', 'solitude_interior.pt', 'klippad_dawn_2.txt', 'gym_entrance.txt', 'dirt_bike_track_01.pt', 'blocky_photo_studio.pt', 'safari_sunset.txt', 'shanghai_bund.pt', 'straw_rolls_field_01.txt', 'empty_play_room.pt', 'stone_pines.txt', 'kloofendal_overcast.pt', 'emmarentia.txt', 'little_paris_eiffel_tower.txt', 'blinds.txt', 'dirt_bike_track_01.txt', 'old_outdoor_theater.pt', 'northcliff.pt', 'park_parking.txt', 'scythian_tombs_puresky.txt', 'palermo_sidewalk.txt', 'snowy_hillside_02.pt', 'hilltop_construction.pt', 'forest_slope.txt', 'rogland_clear_night.pt', 'lot_02.pt', 'rooftop_day.pt', 'photo_studio_loft_hall.pt', 'gym_entrance.pt', 'concrete_tunnel_02.pt', 'christmas_photo_studio_05.txt', 'industrial_pipe_and_valve_01.pt', 'syferfontein_18d_clear.txt', 'blinds.pt', 'floral_tent.txt', 'lenong_2.pt', 'evening_field.pt', 'clarens_night_02.pt', 'niederwihl_forest.txt', 'photo_studio_loft_hall.txt', 'abandoned_hopper_terminal_01.pt', 'hansaplatz.pt', 'northcliff.txt', 'christmas_photo_studio_05.pt', 'kloppenheim_07.pt', 'bathroom.pt', 'cayley_interior.pt', 'straw_rolls_field_01.pt', 'school_quad.pt', 'industrial_pipe_and_valve_01.txt', 'hilltop_construction.txt', 'niederwihl_forest.pt', 'safari_sunset.pt', 'emmarentia.pt', '__local_path__', 'old_outdoor_theater.txt', 'lot_02.txt', '__key__', 'evening_field.txt', 'floral_tent.pt', 'little_paris_eiffel_tower.pt', 'concrete_tunnel_02.txt', 'carpentry_shop_02.pt', 'bloem_train_track_clear.pt', 'gothic_manor_02.txt', 'studio_country_hall.pt'}\n",
      "\n",
      "✅ Both tar files appear valid\n"
     ]
    }
   ],
   "source": [
    "!python verify_simple.py --train_tar $train_tar  --val_tar $val_tar "
   ]
  },
  {
   "cell_type": "code",
   "execution_count": null,
   "id": "403e46af-4479-44b1-a72c-f3c2050bf413",
   "metadata": {},
   "outputs": [],
   "source": []
  },
  {
   "cell_type": "code",
   "execution_count": 5,
   "id": "9559b4ee-1d47-4f27-bbd3-5fe0bc3c7c63",
   "metadata": {},
   "outputs": [],
   "source": [
    "import os\n",
    "os.environ[\"PYTHONPATH\"] = \"/home/jupyter/mluser/git/llm-cv-pano-cubediff\""
   ]
  },
  {
   "cell_type": "code",
   "execution_count": 10,
   "id": "e46044dd-4b2a-4a6d-84ea-22f18a4896d3",
   "metadata": {},
   "outputs": [],
   "source": [
    "# File: debug_dataloader.py\n",
    "import torch\n",
    "import os\n",
    "from pathlib import Path\n",
    "import sys\n",
    "# Add parent directory to Python path\n",
    "repo_root = \"/home/jupyter/mluser/git/llm-cv-pano-cubediff\"\n",
    "sys.path.append(repo_root)\n",
    "\n",
    "from cl.data.latent_webdataset import get_dataloader\n"
   ]
  },
  {
   "cell_type": "code",
   "execution_count": 11,
   "id": "b25a6506-2da9-4df3-a0a5-954e7ec4c61a",
   "metadata": {},
   "outputs": [],
   "source": [
    "\n",
    "def debug_dataloader(tar_path, batch_size=1, num_workers=0):\n",
    "    \"\"\"\n",
    "    Debug the dataloader with minimal settings.\n",
    "    Using num_workers=0 keeps processing in the main thread for easier debugging.\n",
    "    \"\"\"\n",
    "    print(f\"Debugging dataloader with {tar_path}\")\n",
    "    \n",
    "    # Create dataloader with minimal parameters\n",
    "    loader = get_dataloader(\n",
    "        wds_path=tar_path,\n",
    "        batch_size=batch_size,\n",
    "        num_workers=num_workers,  # Use 0 for easier debugging\n",
    "        shuffle=False,\n",
    "        pin_memory=False,\n",
    "        persistent_workers=False,\n",
    "    )\n",
    "    \n",
    "    # Try to iterate through the dataloader\n",
    "    print(\"Iterating through dataloader...\")\n",
    "    batch_count = 0\n",
    "    try:\n",
    "        for i, batch in enumerate(loader):\n",
    "            print(f\"Batch {i+1}:\")\n",
    "            for k, v in batch.items():\n",
    "                if isinstance(v, torch.Tensor):\n",
    "                    print(f\"  {k}: shape={v.shape}, dtype={v.dtype}\")\n",
    "                else:\n",
    "                    print(f\"  {k}: type={type(v)}\")\n",
    "            \n",
    "            batch_count += 1\n",
    "            # Only process a few batches\n",
    "            if i >= 2:\n",
    "                break\n",
    "        \n",
    "        print(f\"Successfully processed {batch_count} batches\")\n",
    "    except Exception as e:\n",
    "        print(f\"Error during iteration: {e}\")\n",
    "        import traceback\n",
    "        traceback.print_exc()\n"
   ]
  },
  {
   "cell_type": "code",
   "execution_count": 13,
   "id": "e591cde7-dff8-4b41-b427-f370fdd9b4cd",
   "metadata": {},
   "outputs": [
    {
     "name": "stdout",
     "output_type": "stream",
     "text": [
      "Debugging dataloader with /home/jupyter/mluser/git/llm-cv-pano-cubediff/cl/data/dataspace/polyhaven_tiny/cubediff_train.tar\n",
      "latent_webdataset.py - get_dataloader - wds_path is /home/jupyter/mluser/git/llm-cv-pano-cubediff/cl/data/dataspace/polyhaven_tiny/cubediff_train.tar, batch_size is 1, num_workers is 1, shuffle is False, pin_memory is False, persistent_workers is False\n",
      "latent_webdataset.py - get_dataloader - before dataset\n",
      "Created WebDataset with path: /home/jupyter/mluser/git/llm-cv-pano-cubediff/cl/data/dataspace/polyhaven_tiny/cubediff_train.tar\n",
      "Added preprocess to pipeline\n",
      "Added select filter to pipeline\n",
      "Dataset pipeline setup complete\n",
      "latent_webdataset.py - get_dataloader - after dataset\n",
      "Iterating through dataloader...\n",
      "Error during iteration: Caught TypeError in DataLoader worker process 0.\n",
      "Original Traceback (most recent call last):\n",
      "  File \"/opt/conda/lib/python3.10/site-packages/torch/utils/data/_utils/worker.py\", line 308, in _worker_loop\n",
      "    data = fetcher.fetch(index)\n",
      "  File \"/opt/conda/lib/python3.10/site-packages/torch/utils/data/_utils/fetch.py\", line 32, in fetch\n",
      "    data.append(next(self.dataset_iter))\n",
      "  File \"/opt/conda/lib/python3.10/site-packages/webdataset/pipeline.py\", line 105, in iterator\n",
      "    for sample in self.iterator1():\n",
      "  File \"/opt/conda/lib/python3.10/site-packages/webdataset/filters.py\", line 429, in _select\n",
      "    for sample in data:\n",
      "  File \"/opt/conda/lib/python3.10/site-packages/webdataset/filters.py\", line 518, in _map\n",
      "    for sample in data:\n",
      "TypeError: 'NoneType' object is not iterable\n",
      "\n"
     ]
    },
    {
     "name": "stderr",
     "output_type": "stream",
     "text": [
      "Traceback (most recent call last):\n",
      "  File \"/tmp/ipykernel_1138/277153447.py\", line 22, in debug_dataloader\n",
      "    for i, batch in enumerate(loader):\n",
      "  File \"/opt/conda/lib/python3.10/site-packages/torch/utils/data/dataloader.py\", line 630, in __next__\n",
      "    data = self._next_data()\n",
      "  File \"/opt/conda/lib/python3.10/site-packages/torch/utils/data/dataloader.py\", line 1345, in _next_data\n",
      "    return self._process_data(data)\n",
      "  File \"/opt/conda/lib/python3.10/site-packages/torch/utils/data/dataloader.py\", line 1371, in _process_data\n",
      "    data.reraise()\n",
      "  File \"/opt/conda/lib/python3.10/site-packages/torch/_utils.py\", line 694, in reraise\n",
      "    raise exception\n",
      "TypeError: Caught TypeError in DataLoader worker process 0.\n",
      "Original Traceback (most recent call last):\n",
      "  File \"/opt/conda/lib/python3.10/site-packages/torch/utils/data/_utils/worker.py\", line 308, in _worker_loop\n",
      "    data = fetcher.fetch(index)\n",
      "  File \"/opt/conda/lib/python3.10/site-packages/torch/utils/data/_utils/fetch.py\", line 32, in fetch\n",
      "    data.append(next(self.dataset_iter))\n",
      "  File \"/opt/conda/lib/python3.10/site-packages/webdataset/pipeline.py\", line 105, in iterator\n",
      "    for sample in self.iterator1():\n",
      "  File \"/opt/conda/lib/python3.10/site-packages/webdataset/filters.py\", line 429, in _select\n",
      "    for sample in data:\n",
      "  File \"/opt/conda/lib/python3.10/site-packages/webdataset/filters.py\", line 518, in _map\n",
      "    for sample in data:\n",
      "TypeError: 'NoneType' object is not iterable\n",
      "\n"
     ]
    }
   ],
   "source": [
    "# Path to your tar file - adjust as needed\n",
    "tar_path = \"/home/jupyter/mluser/git/llm-cv-pano-cubediff/cl/data/dataspace/polyhaven_tiny/cubediff_train.tar\"\n",
    "debug_dataloader(tar_path, batch_size=1, num_workers=1)"
   ]
  },
  {
   "cell_type": "code",
   "execution_count": null,
   "id": "6b673fb1-dcab-4f38-ac2a-bdd43b5b7f76",
   "metadata": {},
   "outputs": [],
   "source": []
  }
 ],
 "metadata": {
  "kernelspec": {
   "display_name": "Python 3 (ipykernel) (Local)",
   "language": "python",
   "name": "python3"
  },
  "language_info": {
   "codemirror_mode": {
    "name": "ipython",
    "version": 3
   },
   "file_extension": ".py",
   "mimetype": "text/x-python",
   "name": "python",
   "nbconvert_exporter": "python",
   "pygments_lexer": "ipython3",
   "version": "3.10.16"
  }
 },
 "nbformat": 4,
 "nbformat_minor": 5
}
