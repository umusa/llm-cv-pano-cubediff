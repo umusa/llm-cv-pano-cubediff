{
 "cells": [
  {
   "cell_type": "code",
   "execution_count": null,
   "metadata": {},
   "outputs": [],
   "source": [
    "import torch\n",
    "import xformers\n",
    "from xformers.ops import memory_efficient_attention\n",
    "\n",
    "print(\"Torch version:\", torch.__version__)\n",
    "print(\"xFormers version:\", xformers.__version__)\n",
    "\n",
    "# --------- Step 1: Create Q/K/V tensors ---------\n",
    "\n",
    "batch = 2\n",
    "n_heads = 4\n",
    "seq_len = 16\n",
    "dim = 32\n",
    "\n",
    "# Important: Use the SAME dtype for all Q/K/V\n",
    "dtype = torch.bfloat16  # or torch.float32\n",
    "\n",
    "query = torch.randn(batch, n_heads, seq_len, dim, dtype=dtype, device=\"cuda\")\n",
    "key = torch.randn(batch, n_heads, seq_len, dim, dtype=dtype, device=\"cuda\")\n",
    "value = torch.randn(batch, n_heads, seq_len, dim, dtype=dtype, device=\"cuda\")\n",
    "\n",
    "print(f\"query dtype: {query.dtype}, key dtype: {key.dtype}, value dtype: {value.dtype}\")\n",
    "\n",
    "# --------- Step 2: Check dtype compatibility ---------\n",
    "\n",
    "if not (query.dtype == key.dtype == value.dtype):\n",
    "    raise ValueError(f\"Mismatch in dtypes! Query: {query.dtype}, Key: {key.dtype}, Value: {value.dtype}\")\n",
    "\n",
    "# --------- Step 3: Call xformers memory-efficient attention ---------\n",
    "\n",
    "output = memory_efficient_attention(query, key, value)\n",
    "print(\"Output shape:\", output.shape)\n"
   ]
  }
 ],
 "metadata": {
  "language_info": {
   "name": "python"
  }
 },
 "nbformat": 4,
 "nbformat_minor": 2
}
