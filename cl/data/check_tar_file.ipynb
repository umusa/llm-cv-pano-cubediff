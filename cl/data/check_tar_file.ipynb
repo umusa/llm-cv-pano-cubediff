{
 "cells": [
  {
   "cell_type": "code",
   "execution_count": null,
   "metadata": {},
   "outputs": [],
   "source": [
    "# Extract a single PT file\n",
    "import tarfile\n",
    "with tarfile.open(\"./dataspace/polyhaven_tiny/cubediff_train.tar\", \"r\") as tar:\n",
    "    for member in tar.getmembers():\n",
    "        if member.name.endswith('.pt'):\n",
    "            tar.extract(member, path=\"/tmp\")\n",
    "            print(f\"Extracted {member.name} to /tmp\")\n",
    "            break"
   ]
  },
  {
   "cell_type": "code",
   "execution_count": null,
   "metadata": {},
   "outputs": [],
   "source": [
    "# Try to load it with different methods\n",
    "import torch\n",
    "import numpy as np\n",
    "import pickle\n",
    "\n",
    "file_path = \"/tmp/quarry_01_puresky.quarry_01_puresky.pt\"  # Use the actual extracted file name\n",
    "\n",
    "# Try torch.load\n",
    "try:\n",
    "    data = torch.load(file_path)\n",
    "    print(f\"Torch.load succeeded: {type(data)}, shape: {data.shape if hasattr(data, 'shape') else 'no shape'}\")\n",
    "except Exception as e:\n",
    "    print(f\"Torch.load failed: {e}\")\n",
    "\n",
    "# Try numpy load\n",
    "try:\n",
    "    data = np.load(file_path, allow_pickle=True)\n",
    "    print(f\"Numpy load succeeded: {type(data)}, shape: {data.shape if hasattr(data, 'shape') else 'no shape'}\")\n",
    "except Exception as e:\n",
    "    print(f\"Numpy load failed: {e}\")\n",
    "\n",
    "# Try pickle\n",
    "try:\n",
    "    with open(file_path, 'rb') as f:\n",
    "        data = pickle.load(f)\n",
    "    print(f\"Pickle succeeded: {type(data)}, shape: {data.shape if hasattr(data, 'shape') else 'no shape'}\")\n",
    "except Exception as e:\n",
    "    print(f\"Pickle failed: {e}\")"
   ]
  },
  {
   "cell_type": "code",
   "execution_count": null,
   "metadata": {},
   "outputs": [],
   "source": [
    "# Add to your notebook to verify tar structure\n",
    "with tarfile.open(\"./dataspace/polyhaven_tiny/cubediff_train.tar\", \"r\") as tar:\n",
    "    files = tar.getnames()\n",
    "    pt_files = [f for f in files if f.endswith('.pt')]\n",
    "    txt_files = [f for f in files if f.endswith('.txt')]\n",
    "    \n",
    "    print(f\"Total files: {len(files)}\")\n",
    "    print(f\"PT files: {len(pt_files)}\")\n",
    "    print(f\"TXT files: {len(txt_files)}\")\n",
    "    \n",
    "    # Check for matching base names\n",
    "    pt_bases = [os.path.splitext(os.path.basename(f))[0] for f in pt_files]\n",
    "    txt_bases = [os.path.splitext(os.path.basename(f))[0] for f in txt_files]\n",
    "    \n",
    "    matched = set(pt_bases).intersection(set(txt_bases))\n",
    "    print(f\"Matched pairs: {len(matched)} out of {len(pt_files)} PT files\")"
   ]
  }
 ],
 "metadata": {
  "kernelspec": {
   "display_name": "3.12.1",
   "language": "python",
   "name": "python3"
  },
  "language_info": {
   "name": "python",
   "version": "3.12.1"
  }
 },
 "nbformat": 4,
 "nbformat_minor": 2
}
